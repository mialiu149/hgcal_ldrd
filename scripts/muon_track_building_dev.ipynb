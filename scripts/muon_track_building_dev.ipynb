{
 "cells": [
  {
   "cell_type": "code",
   "execution_count": 189,
   "metadata": {},
   "outputs": [
    {
     "name": "stdout",
     "output_type": "stream",
     "text": [
      "using device cuda\n"
     ]
    },
    {
     "name": "stderr",
     "output_type": "stream",
     "text": [
      "batch loss = 1.43113:   2%|▏         | 14/872.0625 [00:00<00:06, 133.37it/s]"
     ]
    },
    {
     "name": "stdout",
     "output_type": "stream",
     "text": [
      "Model: \n",
      "EdgeNet(\n",
      "  (inputnet): Sequential(\n",
      "    (0): Linear(in_features=5, out_features=64, bias=True)\n",
      "    (1): Tanh()\n",
      "  )\n",
      "  (edgenetwork): Sequential(\n",
      "    (0): Linear(in_features=138, out_features=1, bias=True)\n",
      "    (1): Sigmoid()\n",
      "  )\n",
      "  (nodenetwork): EdgeConv(nn=Sequential(\n",
      "    (0): Linear(in_features=138, out_features=64, bias=True)\n",
      "    (1): Sigmoid()\n",
      "    (2): Linear(in_features=64, out_features=64, bias=True)\n",
      "    (3): Sigmoid()\n",
      "  ))\n",
      ")\n",
      "Parameters: 13579\n",
      "Testing with 27906 samples\n"
     ]
    },
    {
     "name": "stderr",
     "output_type": "stream",
     "text": [
      "batch loss = 0.54883: : 27906it [03:34, 130.05it/s]                          \n",
      "  0%|          | 19/27906.0 [00:00<02:34, 180.37it/s]"
     ]
    },
    {
     "name": "stdout",
     "output_type": "stream",
     "text": [
      "scor 475765 stru 193218.0 stp 165012 stn 310753 sfp 54917 sfn 28206 stot 558888\n",
      "Testing: Loss: 0.3693, Eff.: 0.8540, FalsePos: 0.1502, FalseNeg: 0.1460, Purity: 0.7503\n"
     ]
    },
    {
     "name": "stderr",
     "output_type": "stream",
     "text": [
      "100%|██████████| 27906/27906.0 [02:31<00:00, 183.92it/s]\n"
     ]
    }
   ],
   "source": [
    "# %load heptrx_nnconv_test.py\n",
    "import os\n",
    "import os.path as osp\n",
    "import math\n",
    "\n",
    "import numpy as np\n",
    "import torch\n",
    "import torch.nn as nn\n",
    "import torch.nn.functional as F\n",
    "from datasets.hitgraphs import HitGraphDataset\n",
    "import torch_geometric.transforms as T\n",
    "from torch_geometric.data import DataLoader\n",
    "from torch_geometric.utils import normalized_cut\n",
    "from torch_geometric.nn import (NNConv, graclus, max_pool, max_pool_x,\n",
    "                                global_mean_pool)\n",
    "import tqdm\n",
    "import argparse\n",
    "\n",
    "from models.gnn_geometric import GNNSegmentClassifier as Net\n",
    "from models.EdgeNet import EdgeNet\n",
    "\n",
    "from heptrx_nnconv import test\n",
    "\n",
    "from datasets.graph import draw_sample\n",
    "\n",
    "import awkward\n",
    "import matplotlib.pyplot as plt\n",
    "import scipy.stats as stats\n",
    "\n",
    "batch_size = 1\n",
    "hidden_dim = 64\n",
    "n_iters = 12\n",
    "\n",
    "device = torch.device('cuda' if torch.cuda.is_available() else 'cpu')\n",
    "print('using device %s'%device)\n",
    "\n",
    "    \n",
    "directed = False\n",
    "path = osp.join(os.environ['GNN_TRAINING_DATA_ROOT'], 'single_mu')\n",
    "full_dataset = HitGraphDataset(path, directed=directed)\n",
    "fulllen = len(full_dataset)\n",
    "tv_frac = 0.10\n",
    "tv_num = math.ceil(fulllen*tv_frac)\n",
    "splits = np.cumsum([fulllen-2*tv_num,tv_num,tv_num])\n",
    "    \n",
    "#test_dataset = torch.utils.data.Subset(full_dataset,np.arange(start=0,stop=256))\n",
    "test_dataset = torch.utils.data.Subset(full_dataset,np.arange(start=splits[0],stop=splits[1]))\n",
    "\n",
    "test_loader = DataLoader(test_dataset, batch_size=batch_size, shuffle=False)\n",
    "    \n",
    "test_samples = len(test_dataset)\n",
    "\n",
    "d = full_dataset\n",
    "num_features = d.num_features\n",
    "num_classes = d[0].y.max().item() + 1 if d[0].y.dim() == 1 else d[0].y.size(1)\n",
    "    \n",
    "model = EdgeNet(input_dim=num_features,hidden_dim=hidden_dim,n_iters=n_iters).to(device)\n",
    "model_fname = \"../checkpoints/model_checkpoint_EdgeNet_13579_5946285673_liumy871227.best.pth.tar\"\n",
    "print('Model: \\n%s\\nParameters: %i' %\n",
    "          (model, sum(p.numel()\n",
    "                      for p in model.parameters())))\n",
    "print('Testing with %s samples'%test_samples)\n",
    "model.load_state_dict(torch.load(model_fname)['model'])\n",
    "\n",
    "test_loss, test_acc, test_eff, test_fp, test_fn, test_pur = test(model, test_loader, test_samples)\n",
    "print('Testing: Loss: {:.4f}, Eff.: {:.4f}, FalsePos: {:.4f}, FalseNeg: {:.4f}, Purity: {:,.4f}'.format(test_loss, test_eff,\n",
    "                                                                                                            test_fp, test_fn, test_pur))\n",
    "\n",
    "# plotting:\n",
    "figs = []\n",
    "t = tqdm.tqdm(enumerate(test_loader),total=test_samples/batch_size)\n",
    "out = []\n",
    "y = []\n",
    "x = []\n",
    "edge_index = []\n",
    "simmatched = []\n",
    "for i,data in t:\n",
    "    data = data.to(device)\n",
    "    #print(data)\n",
    "    out.append(model(data).cpu().detach().numpy())\n",
    "    x.append(data.x.cpu().detach().numpy())\n",
    "    y.append(data.y.cpu().detach().numpy())\n",
    "    edge_index.append(data.edge_index.cpu().detach().numpy())\n",
    "out = awkward.fromiter(out)\n",
    "x = awkward.fromiter(x)\n",
    "y = awkward.fromiter(y)\n",
    "edge_index = awkward.fromiter(edge_index)"
   ]
  },
  {
   "cell_type": "code",
   "execution_count": 158,
   "metadata": {},
   "outputs": [
    {
     "name": "stdout",
     "output_type": "stream",
     "text": [
      "predicted connected nodes [[0 1] [1 2 3 ... 10 11 12] [0 1 3 5 9] ... [0 1 2 ... 6 9 10] [1 2 3 4 8] [1 2 3 7 9]]\n"
     ]
    },
    {
     "data": {
      "image/png": "[encoded data removed]",
      "text/plain": [
       "<Figure size 864x504 with 1 Axes>"
      ]
     },
     "metadata": {
      "needs_background": "light"
     },
     "output_type": "display_data"
    }
   ],
   "source": [
    "cut = 0.15\n",
    "predicted_edge = (out > cut)\n",
    "true_edge = (y > 0.5)\n",
    "fake_edge = (y < 0.5)\n",
    "true_edge_score = out[true_edge]\n",
    "fake_edge_score = out[fake_edge]\n",
    "predicted_connected_node_indices = awkward.JaggedArray.concatenate([edge_index[:,0][predicted_edge], edge_index[:,1][predicted_edge]], axis=1)\n",
    "predicted_connected_node_indices = awkward.fromiter(map(np.unique, predicted_connected_node_indices))\n",
    "true_connected_node_indices = awkward.JaggedArray.concatenate([edge_index[:,0][true_edge],edge_index[:,1][true_edge]], axis=1)\n",
    "true_connected_node_indices = awkward.fromiter(map(np.unique, true_connected_node_indices))\n",
    "\n",
    "print(\"predicted connected nodes\",predicted_connected_node_indices)\n",
    "    #def buildtracks(edges):\n",
    "        #   return tracks\n",
    "    #factorize the plotting part\n",
    "fig,axes = plt.subplots(figsize=(12, 7))\n",
    "_, bins,_ = axes.hist([true_edge_score.flatten(),fake_edge_score.flatten()],weights=[[1]*len(true_edge_score.flatten()),[0.15]*len(fake_edge_score.flatten())], bins=100,color=['b','r'],label=['true edge','false edge'],histtype='step',fill=False)\n",
    "\n",
    "plt.title(\"Edge classifier score on test data\")\n",
    "plt.ylabel(\"Number of edges\")\n",
    "plt.xlabel(\"Classifier score\")\n",
    "plt.legend(loc='upper left')\n",
    "plt.yscale('log')\n",
    "figs.append(fig)\n",
    "    \n",
    "import matplotlib.backends.backend_pdf\n",
    "pdf = matplotlib.backends.backend_pdf.PdfPages(\"test_plots.pdf\")\n",
    "for fig in figs: \n",
    "    pdf.savefig(fig)\n",
    "pdf.close()"
   ]
  },
  {
   "cell_type": "code",
   "execution_count": 188,
   "metadata": {},
   "outputs": [
    {
     "name": "stdout",
     "output_type": "stream",
     "text": [
      "[[0.9803233 0.98041546] [0.025363727 0.32036775 0.056898136 ... 0.013436312 0.7824131 0.9792597] [0.9496521 0.26353005 0.97724026 ... 0.115334734 0.049834516 9.682617e-05] ... [0.021852039 0.026402533 0.5527084 ... 0.9981944 0.9996351 0.99435943] [0.09775389 0.08870763 0.04241463 ... 0.8442825 0.70586014 0.05258188] [0.09713066 0.25704545 0.06899177 ... 0.00018160917 0.0007078308 0.9286401]]\n"
     ]
    }
   ],
   "source": [
    "print(out)"
   ]
  },
  {
   "cell_type": "code",
   "execution_count": 159,
   "metadata": {},
   "outputs": [
    {
     "name": "stdout",
     "output_type": "stream",
     "text": [
      "[[0 1] [0 6 6 ... 12 12 2] [5 9 0 ... 7 3 7] ... [8 11 0 ... 1 3 5] [0 7 7 ... 3 4 6] [3 3 4 ... 12 1 2]]\n",
      "[[1 0] [6 3 8 ... 5 10 1] [0 0 1 ... 1 6 6] ... [0 0 2 ... 6 1 3] [7 1 8 ... 8 2 2] [4 7 9 ... 10 12 1]]\n",
      "4\n"
     ]
    }
   ],
   "source": [
    "print(edge_index[:,0])\n",
    "print(edge_index[:,1])\n",
    "\n",
    "predicted_node_average = [len(x[predicted_connected_node_indices][i]) for i in range(len(x))]\n",
    "true_node_average = [len(x[true_connected_node_indices][i]) for i in range(len(x))]\n",
    "print(len(x[true_connected_node_indices][1]))"
   ]
  },
  {
   "cell_type": "code",
   "execution_count": 160,
   "metadata": {},
   "outputs": [
    {
     "data": {
      "text/plain": [
       "[<matplotlib.lines.Line2D at 0x7f93195915c0>]"
      ]
     },
     "execution_count": 160,
     "metadata": {},
     "output_type": "execute_result"
    },
    {
     "data": {
      "image/png": "[encoded data removed]",
      "text/plain": [
       "<Figure size 432x288 with 1 Axes>"
      ]
     },
     "metadata": {
      "needs_background": "light"
     },
     "output_type": "display_data"
    }
   ],
   "source": [
    "plt.plot(predicted_node_average)"
   ]
  },
  {
   "cell_type": "code",
   "execution_count": 161,
   "metadata": {},
   "outputs": [
    {
     "data": {
      "text/plain": [
       "[<matplotlib.lines.Line2D at 0x7f9377d02cc0>]"
      ]
     },
     "execution_count": 161,
     "metadata": {},
     "output_type": "execute_result"
    },
    {
     "data": {
      "image/png": "[encoded data removed]",
      "text/plain": [
       "<Figure size 432x288 with 1 Axes>"
      ]
     },
     "metadata": {
      "needs_background": "light"
     },
     "output_type": "display_data"
    }
   ],
   "source": [
    "plt.plot(true_node_average)"
   ]
  },
  {
   "cell_type": "code",
   "execution_count": 168,
   "metadata": {},
   "outputs": [
    {
     "data": {
      "image/png": "[encoded data removed]",
      "text/plain": [
       "<Figure size 864x504 with 1 Axes>"
      ]
     },
     "metadata": {
      "needs_background": "light"
     },
     "output_type": "display_data"
    }
   ],
   "source": [
    "fig,axes = plt.subplots(figsize=(12, 7))\n",
    "_, bins,_ = axes.hist([predicted_node_average,true_node_average], bins=100,color=['b','r'],label=['predicted','true'],histtype='step',fill=False)\n",
    "plt.title(\"Number of nodes ('hits')\")\n",
    "plt.ylabel(\"Number of edges\")\n",
    "plt.xlabel(\"Number of nodes\")\n",
    "plt.legend(loc='upper left')\n",
    "plt.yscale('log')\n",
    "figs.append(fig)"
   ]
  },
  {
   "cell_type": "code",
   "execution_count": 178,
   "metadata": {},
   "outputs": [
    {
     "name": "stdout",
     "output_type": "stream",
     "text": [
      "[[10.0 11.0] [10.0 11.0 2.0 ... 7.0 4.0 8.0] [9.0 10.0 11.0 8.0 8.0] ... [1.0 5.0 2.0 ... 4.0 2.0 3.0] [3.0 7.0 4.0 8.0 3.0] [10.0 11.0 2.0 3.0 4.0]]\n",
      "[[10.0 11.0] [10.0 11.0 2.0 3.0] [9.0 10.0 11.0 8.0] ... [1.0 5.0 2.0 ... 3.0 7.0 4.0] [3.0 7.0 4.0 8.0] [10.0 11.0 2.0 3.0 7.0 8.0]]\n"
     ]
    },
    {
     "data": {
      "text/plain": [
       "27906"
      ]
     },
     "execution_count": 178,
     "metadata": {},
     "output_type": "execute_result"
    }
   ],
   "source": [
    "# looks like many events have fewer than 10 real hits associated with real muon tracks\n",
    "filtered_indices = [i for i, x in enumerate(predicted_node_average) if x < 11]\n",
    "predicted_hitlayers = x[predicted_connected_node_indices][:,:,-3]\n",
    "true_hitlayers=x[true_connected_node_indices][:,:,-3]\n",
    "print(predicted_hitlayers)\n",
    "print(true_hitlayers)\n",
    "len(predicted_hitlayers)"
   ]
  },
  {
   "cell_type": "code",
   "execution_count": 181,
   "metadata": {},
   "outputs": [
    {
     "data": {
      "text/plain": [
       "array([10., 11.,  2.,  3.,  1.,  5.,  6.,  7.,  4.,  8.], dtype=float32)"
      ]
     },
     "execution_count": 181,
     "metadata": {},
     "output_type": "execute_result"
    }
   ],
   "source": [
    "x[predicted_connected_node_indices][1,:,-3]"
   ]
  },
  {
   "cell_type": "code",
   "execution_count": null,
   "metadata": {},
   "outputs": [],
   "source": []
  }
 ],
 "metadata": {
  "kernelspec": {
   "display_name": "Python 3",
   "language": "python",
   "name": "python3"
  },
  "language_info": {
   "codemirror_mode": {
    "name": "ipython",
    "version": 3
   },
   "file_extension": ".py",
   "mimetype": "text/x-python",
   "name": "python",
   "nbconvert_exporter": "python",
   "pygments_lexer": "ipython3",
   "version": "3.6.9"
  }
 },
 "nbformat": 4,
 "nbformat_minor": 4
}
